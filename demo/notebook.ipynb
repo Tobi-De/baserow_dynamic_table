{
 "cells": [
  {
   "cell_type": "code",
   "execution_count": 1,
   "id": "initial_id",
   "metadata": {
    "collapsed": true
   },
   "outputs": [
    {
     "data": {
      "application/vnd.jupyter.widget-view+json": {
       "model_id": "704c43f3d7f74b37964add755a2ef9de",
       "version_major": 2,
       "version_minor": 0
      },
      "text/plain": [
       "Output()"
      ]
     },
     "metadata": {},
     "output_type": "display_data"
    },
    {
     "data": {
      "text/html": [
       "<pre style=\"white-space:pre;overflow-x:auto;line-height:normal;font-family:Menlo,'DejaVu Sans Mono',consolas,'Courier New',monospace\"></pre>\n"
      ],
      "text/plain": []
     },
     "metadata": {},
     "output_type": "display_data"
    }
   ],
   "source": [
    "from dj_notebook import activate\n",
    "\n",
    "plus = activate()"
   ]
  },
  {
   "cell_type": "code",
   "execution_count": 4,
   "id": "2977cdc8",
   "metadata": {},
   "outputs": [],
   "source": [
    "from django.contrib.auth.models import User\n",
    "\n",
    "user = User.objects.create_user(username='tobi')"
   ]
  },
  {
   "cell_type": "code",
   "execution_count": null,
   "id": "5d08e680faa2786e",
   "metadata": {
    "ExecuteTime": {
     "end_time": "2023-11-06T19:09:38.040407666Z",
     "start_time": "2023-11-06T19:09:38.020549994Z"
    },
    "collapsed": false
   },
   "outputs": [],
   "source": [
    "from baserow_dynamic_table.table.handler import TableHandler\n",
    "\n",
    "from django.contrib.auth.models import User\n",
    "\n",
    "user = User.objects.first()\n",
    "\n",
    "# Table.objects.all().delete()\n",
    "\n",
    "table = TableHandler().create_table_and_fields(user=user,\n",
    "                                               name=\"Product\", fields=[(\"name\", \"text\", {})]\n",
    "                                               )\n",
    "table.get_model(managed=True)"
   ]
  },
  {
   "cell_type": "code",
   "execution_count": 3,
   "id": "f0b1c576",
   "metadata": {},
   "outputs": [
    {
     "data": {
      "text/html": [
       "<pre style=\"white-space:pre;overflow-x:auto;line-height:normal;font-family:Menlo,'DejaVu Sans Mono',consolas,'Courier New',monospace\">2023-11-09 16:53:19.573 | DEBUG    | baserow_dynamic_table.table.models:get_model:624 - Generating model for table \n",
       "4 with fields None, manytomany_models None, add_dependencies True, use_cache True\n",
       "</pre>\n"
      ],
      "text/plain": [
       "2023-11-09 16:53:19.573 | DEBUG    | baserow_dynamic_table.table.models:get_model:624 - Generating model for table \n",
       "4 with fields None, manytomany_models None, add_dependencies True, use_cache True\n"
      ]
     },
     "metadata": {},
     "output_type": "display_data"
    },
    {
     "data": {
      "text/html": [
       "<pre style=\"white-space:pre;overflow-x:auto;line-height:normal;font-family:Menlo,'DejaVu Sans Mono',consolas,'Courier New',monospace\">2023-11-09 16:53:19.575 | DEBUG    | baserow_dynamic_table.table.models:get_model:712 - Generating model field \n",
       "attrs for table 4\n",
       "</pre>\n"
      ],
      "text/plain": [
       "2023-11-09 16:53:19.575 | DEBUG    | baserow_dynamic_table.table.models:get_model:712 - Generating model field \n",
       "attrs for table 4\n"
      ]
     },
     "metadata": {},
     "output_type": "display_data"
    },
    {
     "ename": "TypeError",
     "evalue": "Table4Model() got unexpected keyword arguments: 'name'",
     "output_type": "error",
     "traceback": [
      "\u001B[0;31m---------------------------------------------------------------------------\u001B[0m",
      "\u001B[0;31mTypeError\u001B[0m                                 Traceback (most recent call last)",
      "\u001B[1;32m/Users/tobi/Builds/baserow_dynamic_table/demo/notebook.ipynb Cell 4\u001B[0m line \u001B[0;36m5\n\u001B[1;32m      <a href='vscode-notebook-cell:/Users/tobi/Builds/baserow_dynamic_table/demo/notebook.ipynb#W4sZmlsZQ%3D%3D?line=2'>3</a>\u001B[0m table \u001B[39m=\u001B[39m Table\u001B[39m.\u001B[39mobjects\u001B[39m.\u001B[39mfirst()\n\u001B[1;32m      <a href='vscode-notebook-cell:/Users/tobi/Builds/baserow_dynamic_table/demo/notebook.ipynb#W4sZmlsZQ%3D%3D?line=3'>4</a>\u001B[0m model \u001B[39m=\u001B[39m table\u001B[39m.\u001B[39mget_model(managed\u001B[39m=\u001B[39m\u001B[39mTrue\u001B[39;00m)\n\u001B[0;32m----> <a href='vscode-notebook-cell:/Users/tobi/Builds/baserow_dynamic_table/demo/notebook.ipynb#W4sZmlsZQ%3D%3D?line=4'>5</a>\u001B[0m model\u001B[39m.\u001B[39;49mobjects\u001B[39m.\u001B[39;49mcreate(name\u001B[39m=\u001B[39;49m\u001B[39m\"\u001B[39;49m\u001B[39mProduct 1\u001B[39;49m\u001B[39m\"\u001B[39;49m)\n",
      "File \u001B[0;32m~/Builds/baserow_dynamic_table/.venv/lib/python3.12/site-packages/django/db/models/manager.py:87\u001B[0m, in \u001B[0;36mBaseManager._get_queryset_methods.<locals>.create_method.<locals>.manager_method\u001B[0;34m(self, *args, **kwargs)\u001B[0m\n\u001B[1;32m     85\u001B[0m \u001B[39m@wraps\u001B[39m(method)\n\u001B[1;32m     86\u001B[0m \u001B[39mdef\u001B[39;00m \u001B[39mmanager_method\u001B[39m(\u001B[39mself\u001B[39m, \u001B[39m*\u001B[39margs, \u001B[39m*\u001B[39m\u001B[39m*\u001B[39mkwargs):\n\u001B[0;32m---> 87\u001B[0m     \u001B[39mreturn\u001B[39;00m \u001B[39mgetattr\u001B[39;49m(\u001B[39mself\u001B[39;49m\u001B[39m.\u001B[39;49mget_queryset(), name)(\u001B[39m*\u001B[39;49margs, \u001B[39m*\u001B[39;49m\u001B[39m*\u001B[39;49mkwargs)\n",
      "File \u001B[0;32m~/Builds/baserow_dynamic_table/.venv/lib/python3.12/site-packages/django/db/models/query.py:656\u001B[0m, in \u001B[0;36mQuerySet.create\u001B[0;34m(self, **kwargs)\u001B[0m\n\u001B[1;32m    651\u001B[0m \u001B[39mdef\u001B[39;00m \u001B[39mcreate\u001B[39m(\u001B[39mself\u001B[39m, \u001B[39m*\u001B[39m\u001B[39m*\u001B[39mkwargs):\n\u001B[1;32m    652\u001B[0m \u001B[39m    \u001B[39m\u001B[39m\"\"\"\u001B[39;00m\n\u001B[1;32m    653\u001B[0m \u001B[39m    Create a new object with the given kwargs, saving it to the database\u001B[39;00m\n\u001B[1;32m    654\u001B[0m \u001B[39m    and returning the created object.\u001B[39;00m\n\u001B[1;32m    655\u001B[0m \u001B[39m    \"\"\"\u001B[39;00m\n\u001B[0;32m--> 656\u001B[0m     obj \u001B[39m=\u001B[39m \u001B[39mself\u001B[39;49m\u001B[39m.\u001B[39;49mmodel(\u001B[39m*\u001B[39;49m\u001B[39m*\u001B[39;49mkwargs)\n\u001B[1;32m    657\u001B[0m     \u001B[39mself\u001B[39m\u001B[39m.\u001B[39m_for_write \u001B[39m=\u001B[39m \u001B[39mTrue\u001B[39;00m\n\u001B[1;32m    658\u001B[0m     obj\u001B[39m.\u001B[39msave(force_insert\u001B[39m=\u001B[39m\u001B[39mTrue\u001B[39;00m, using\u001B[39m=\u001B[39m\u001B[39mself\u001B[39m\u001B[39m.\u001B[39mdb)\n",
      "File \u001B[0;32m~/Builds/baserow_dynamic_table/.venv/lib/python3.12/site-packages/django/db/models/base.py:567\u001B[0m, in \u001B[0;36mModel.__init__\u001B[0;34m(self, *args, **kwargs)\u001B[0m\n\u001B[1;32m    565\u001B[0m     \u001B[39mif\u001B[39;00m unexpected:\n\u001B[1;32m    566\u001B[0m         unexpected_names \u001B[39m=\u001B[39m \u001B[39m\"\u001B[39m\u001B[39m, \u001B[39m\u001B[39m\"\u001B[39m\u001B[39m.\u001B[39mjoin(\u001B[39mrepr\u001B[39m(n) \u001B[39mfor\u001B[39;00m n \u001B[39min\u001B[39;00m unexpected)\n\u001B[0;32m--> 567\u001B[0m         \u001B[39mraise\u001B[39;00m \u001B[39mTypeError\u001B[39;00m(\n\u001B[1;32m    568\u001B[0m             \u001B[39mf\u001B[39m\u001B[39m\"\u001B[39m\u001B[39m{\u001B[39;00m\u001B[39mcls\u001B[39m\u001B[39m.\u001B[39m\u001B[39m__name__\u001B[39m\u001B[39m}\u001B[39;00m\u001B[39m() got unexpected keyword arguments: \u001B[39m\u001B[39m\"\u001B[39m\n\u001B[1;32m    569\u001B[0m             \u001B[39mf\u001B[39m\u001B[39m\"\u001B[39m\u001B[39m{\u001B[39;00munexpected_names\u001B[39m}\u001B[39;00m\u001B[39m\"\u001B[39m\n\u001B[1;32m    570\u001B[0m         )\n\u001B[1;32m    571\u001B[0m \u001B[39msuper\u001B[39m()\u001B[39m.\u001B[39m\u001B[39m__init__\u001B[39m()\n\u001B[1;32m    572\u001B[0m post_init\u001B[39m.\u001B[39msend(sender\u001B[39m=\u001B[39m\u001B[39mcls\u001B[39m, instance\u001B[39m=\u001B[39m\u001B[39mself\u001B[39m)\n",
      "\u001B[0;31mTypeError\u001B[0m: Table4Model() got unexpected keyword arguments: 'name'"
     ]
    }
   ],
   "source": [
    "from baserow_dynamic_table.table.models import Table\n",
    "\n",
    "table = Table.objects.first()\n",
    "model = table.get_model(managed=True)\n",
    "model.objects.create(name=\"Product 1\")"
   ]
  },
  {
   "cell_type": "code",
   "execution_count": null,
   "id": "fe2e556312fee9f3",
   "metadata": {
    "collapsed": false
   },
   "outputs": [],
   "source": []
  }
 ],
 "metadata": {
  "kernelspec": {
   "display_name": "Python 3",
   "language": "python",
   "name": "python3"
  },
  "language_info": {
   "codemirror_mode": {
    "name": "ipython",
    "version": 3
   },
   "file_extension": ".py",
   "mimetype": "text/x-python",
   "name": "python",
   "nbconvert_exporter": "python",
   "pygments_lexer": "ipython3",
   "version": "3.12.0"
  }
 },
 "nbformat": 4,
 "nbformat_minor": 5
}
