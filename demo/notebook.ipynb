{
 "cells": [
  {
   "cell_type": "code",
   "execution_count": 1,
   "id": "initial_id",
   "metadata": {
    "ExecuteTime": {
     "end_time": "2023-11-15T22:07:38.176385009Z",
     "start_time": "2023-11-15T22:07:37.598482813Z"
    }
   },
   "outputs": [
    {
     "data": {
      "application/vnd.jupyter.widget-view+json": {
       "model_id": "",
       "version_major": 2,
       "version_minor": 0
      },
      "text/plain": [
       "Output()"
      ]
     },
     "metadata": {},
     "output_type": "display_data"
    },
    {
     "data": {
      "text/html": [
       "<pre style=\"white-space:pre;overflow-x:auto;line-height:normal;font-family:Menlo,'DejaVu Sans Mono',consolas,'Courier New',monospace\"></pre>\n"
      ],
      "text/plain": []
     },
     "metadata": {},
     "output_type": "display_data"
    }
   ],
   "source": [
    "from dj_notebook import activate\n",
    "\n",
    "plus = activate()"
   ]
  },
  {
   "cell_type": "code",
   "execution_count": 2,
   "id": "2977cdc8",
   "metadata": {
    "ExecuteTime": {
     "end_time": "2023-11-15T21:33:42.452209535Z",
     "start_time": "2023-11-15T21:33:42.411849018Z"
    }
   },
   "outputs": [],
   "source": [
    "from django.contrib.auth.models import User\n",
    "\n",
    "user = User.objects.create_user(username='tobi')"
   ]
  },
  {
   "cell_type": "code",
   "execution_count": 4,
   "id": "5d08e680faa2786e",
   "metadata": {
    "ExecuteTime": {
     "end_time": "2023-11-15T22:08:22.857301743Z",
     "start_time": "2023-11-15T22:08:22.749547529Z"
    },
    "collapsed": false
   },
   "outputs": [
    {
     "data": {
      "text/html": [
       "<pre style=\"white-space:pre;overflow-x:auto;line-height:normal;font-family:Menlo,'DejaVu Sans Mono',consolas,'Courier New',monospace\">2023-11-16 20:53:26.128 | DEBUG    | baserow_dynamic_table.table.models:get_model:775 - Generating model for table \n",
       "5 with fields None, manytomany_models None, add_dependencies True, use_cache True\n",
       "</pre>\n"
      ],
      "text/plain": [
       "2023-11-16 20:53:26.128 | DEBUG    | baserow_dynamic_table.table.models:get_model:775 - Generating model for table \n",
       "5 with fields None, manytomany_models None, add_dependencies True, use_cache True\n"
      ]
     },
     "metadata": {},
     "output_type": "display_data"
    },
    {
     "data": {
      "text/html": [
       "<pre style=\"white-space:pre;overflow-x:auto;line-height:normal;font-family:Menlo,'DejaVu Sans Mono',consolas,'Courier New',monospace\">2023-11-16 20:53:26.129 | DEBUG    | baserow_dynamic_table.table.models:get_model:863 - Generating model field \n",
       "attrs for table 5\n",
       "</pre>\n"
      ],
      "text/plain": [
       "2023-11-16 20:53:26.129 | DEBUG    | baserow_dynamic_table.table.models:get_model:863 - Generating model field \n",
       "attrs for table 5\n"
      ]
     },
     "metadata": {},
     "output_type": "display_data"
    },
    {
     "data": {
      "text/html": [
       "<pre style=\"white-space:pre;overflow-x:auto;line-height:normal;font-family:Menlo,'DejaVu Sans Mono',consolas,'Courier New',monospace\">2023-11-16 20:53:26.195 | DEBUG    | baserow_dynamic_table.table.models:get_model:775 - Generating model for table \n",
       "5 with fields None, manytomany_models None, add_dependencies True, use_cache True\n",
       "</pre>\n"
      ],
      "text/plain": [
       "2023-11-16 20:53:26.195 | DEBUG    | baserow_dynamic_table.table.models:get_model:775 - Generating model for table \n",
       "5 with fields None, manytomany_models None, add_dependencies True, use_cache True\n"
      ]
     },
     "metadata": {},
     "output_type": "display_data"
    },
    {
     "data": {
      "text/html": [
       "<pre style=\"white-space:pre;overflow-x:auto;line-height:normal;font-family:Menlo,'DejaVu Sans Mono',consolas,'Courier New',monospace\">2023-11-16 20:53:26.197 | DEBUG    | baserow_dynamic_table.table.models:get_model:863 - Generating model field \n",
       "attrs for table 5\n",
       "</pre>\n"
      ],
      "text/plain": [
       "2023-11-16 20:53:26.197 | DEBUG    | baserow_dynamic_table.table.models:get_model:863 - Generating model field \n",
       "attrs for table 5\n"
      ]
     },
     "metadata": {},
     "output_type": "display_data"
    },
    {
     "data": {
      "text/plain": [
       "baserow_dynamic_table.models.Table5Model"
      ]
     },
     "execution_count": 4,
     "metadata": {},
     "output_type": "execute_result"
    }
   ],
   "source": [
    "from baserow_dynamic_table.table.handler import TableHandler\n",
    "\n",
    "user = plus.User.objects.first()\n",
    "\n",
    "# plus.Table.objects.all().delete()\n",
    "\n",
    "table = TableHandler().create_table_and_fields(user=user,\n",
    "                                               name=\"Product\", fields=[(\"name\", \"text\", {})]\n",
    "                                               )\n",
    "table.get_model(managed=True)"
   ]
  },
  {
   "cell_type": "code",
   "execution_count": 2,
   "id": "f0b1c576",
   "metadata": {
    "ExecuteTime": {
     "end_time": "2023-11-15T22:08:48.004050077Z",
     "start_time": "2023-11-15T22:08:47.998453801Z"
    }
   },
   "outputs": [
    {
     "data": {
      "text/html": [
       "<pre style=\"white-space:pre;overflow-x:auto;line-height:normal;font-family:Menlo,'DejaVu Sans Mono',consolas,'Courier New',monospace\">2023-11-16 20:56:15.821 | DEBUG    | baserow_dynamic_table.table.models:get_model:775 - Generating model for table \n",
       "5 with fields None, manytomany_models None, add_dependencies True, use_cache True\n",
       "</pre>\n"
      ],
      "text/plain": [
       "2023-11-16 20:56:15.821 | DEBUG    | baserow_dynamic_table.table.models:get_model:775 - Generating model for table \n",
       "5 with fields None, manytomany_models None, add_dependencies True, use_cache True\n"
      ]
     },
     "metadata": {},
     "output_type": "display_data"
    },
    {
     "data": {
      "text/html": [
       "<pre style=\"white-space:pre;overflow-x:auto;line-height:normal;font-family:Menlo,'DejaVu Sans Mono',consolas,'Courier New',monospace\">2023-11-16 20:56:15.823 | DEBUG    | baserow_dynamic_table.table.models:get_model:863 - Generating model field \n",
       "attrs for table 5\n",
       "</pre>\n"
      ],
      "text/plain": [
       "2023-11-16 20:56:15.823 | DEBUG    | baserow_dynamic_table.table.models:get_model:863 - Generating model field \n",
       "attrs for table 5\n"
      ]
     },
     "metadata": {},
     "output_type": "display_data"
    },
    {
     "name": "stdout",
     "output_type": "stream",
     "text": [
      "<class 'baserow_dynamic_table.models.Table5Model'>\n"
     ]
    }
   ],
   "source": [
    "from baserow_dynamic_table.table.models import Table\n",
    "\n",
    "table = Table.objects.first()\n",
    "model = table.get_model(managed=True)\n",
    "\n",
    "print(model)\n"
   ]
  },
  {
   "cell_type": "code",
   "execution_count": 3,
   "id": "fe2e556312fee9f3",
   "metadata": {
    "ExecuteTime": {
     "end_time": "2023-11-16T06:44:51.166591679Z",
     "start_time": "2023-11-16T06:44:50.750506035Z"
    },
    "collapsed": false
   },
   "outputs": [
    {
     "data": {
      "text/html": [
       "<pre style=\"white-space:pre;overflow-x:auto;line-height:normal;font-family:Menlo,'DejaVu Sans Mono',consolas,'Courier New',monospace\">2023-11-16 20:56:26.688 | DEBUG    | baserow_dynamic_table.table.models:get_model:775 - Generating model for table \n",
       "5 with fields None, manytomany_models None, add_dependencies True, use_cache True\n",
       "</pre>\n"
      ],
      "text/plain": [
       "2023-11-16 20:56:26.688 | DEBUG    | baserow_dynamic_table.table.models:get_model:775 - Generating model for table \n",
       "5 with fields None, manytomany_models None, add_dependencies True, use_cache True\n"
      ]
     },
     "metadata": {},
     "output_type": "display_data"
    },
    {
     "data": {
      "text/html": [
       "<pre style=\"white-space:pre;overflow-x:auto;line-height:normal;font-family:Menlo,'DejaVu Sans Mono',consolas,'Courier New',monospace\">2023-11-16 20:56:26.689 | DEBUG    | baserow_dynamic_table.table.models:get_model:863 - Generating model field \n",
       "attrs for table 5\n",
       "</pre>\n"
      ],
      "text/plain": [
       "2023-11-16 20:56:26.689 | DEBUG    | baserow_dynamic_table.table.models:get_model:863 - Generating model field \n",
       "attrs for table 5\n"
      ]
     },
     "metadata": {},
     "output_type": "display_data"
    },
    {
     "data": {
      "text/plain": [
       "<Table5Model: >"
      ]
     },
     "execution_count": 3,
     "metadata": {},
     "output_type": "execute_result"
    }
   ],
   "source": [
    "from baserow_dynamic_table.rows.handler import RowHandler\n",
    "\n",
    "RowHandler().create_row(user=plus.User.objects.first(), table=plus.Table.objects.first(),\n",
    "                        values={\"name\": \"first_product\"})"
   ]
  },
  {
   "cell_type": "code",
   "execution_count": 5,
   "id": "4e256e17b1491c6f",
   "metadata": {
    "collapsed": false
   },
   "outputs": [
    {
     "data": {
      "text/html": [
       "<pre style=\"white-space:pre;overflow-x:auto;line-height:normal;font-family:Menlo,'DejaVu Sans Mono',consolas,'Courier New',monospace\">2023-11-16 20:59:51.689 | DEBUG    | baserow_dynamic_table.table.models:get_model:775 - Generating model for table \n",
       "5 with fields None, manytomany_models None, add_dependencies True, use_cache True\n",
       "</pre>\n"
      ],
      "text/plain": [
       "2023-11-16 20:59:51.689 | DEBUG    | baserow_dynamic_table.table.models:get_model:775 - Generating model for table \n",
       "5 with fields None, manytomany_models None, add_dependencies True, use_cache True\n"
      ]
     },
     "metadata": {},
     "output_type": "display_data"
    },
    {
     "data": {
      "text/html": [
       "<pre style=\"white-space:pre;overflow-x:auto;line-height:normal;font-family:Menlo,'DejaVu Sans Mono',consolas,'Courier New',monospace\">2023-11-16 20:59:51.690 | DEBUG    | baserow_dynamic_table.table.models:get_model:863 - Generating model field \n",
       "attrs for table 5\n",
       "</pre>\n"
      ],
      "text/plain": [
       "2023-11-16 20:59:51.690 | DEBUG    | baserow_dynamic_table.table.models:get_model:863 - Generating model field \n",
       "attrs for table 5\n"
      ]
     },
     "metadata": {},
     "output_type": "display_data"
    },
    {
     "data": {
      "text/plain": [
       "<TableModelQuerySet [<Table5Model: >, <Table5Model: >, <Table5Model: >]>"
      ]
     },
     "execution_count": 5,
     "metadata": {},
     "output_type": "execute_result"
    }
   ],
   "source": [
    "\n",
    "\n",
    "plus.Table.objects.first().get_model(managed=True).objects.all().enhance_by_fields()"
   ]
  },
  {
   "cell_type": "code",
   "execution_count": null,
   "id": "fa537f6f-4655-42e7-bb6d-5d78ec4aaebe",
   "metadata": {},
   "outputs": [],
   "source": []
  }
 ],
 "metadata": {
  "kernelspec": {
   "display_name": "Python 3 (ipykernel)",
   "language": "python",
   "name": "python3"
  },
  "language_info": {
   "codemirror_mode": {
    "name": "ipython",
    "version": 3
   },
   "file_extension": ".py",
   "mimetype": "text/x-python",
   "name": "python",
   "nbconvert_exporter": "python",
   "pygments_lexer": "ipython3",
   "version": "3.12.0"
  }
 },
 "nbformat": 4,
 "nbformat_minor": 5
}
