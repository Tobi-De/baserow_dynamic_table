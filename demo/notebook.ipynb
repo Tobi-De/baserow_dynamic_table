{
 "cells": [
  {
   "cell_type": "code",
   "execution_count": 1,
   "id": "initial_id",
   "metadata": {
    "collapsed": true
   },
   "outputs": [
    {
     "data": {
      "application/vnd.jupyter.widget-view+json": {
       "model_id": "704c43f3d7f74b37964add755a2ef9de",
       "version_major": 2,
       "version_minor": 0
      },
      "text/plain": [
       "Output()"
      ]
     },
     "metadata": {},
     "output_type": "display_data"
    },
    {
     "data": {
      "text/html": [
       "<pre style=\"white-space:pre;overflow-x:auto;line-height:normal;font-family:Menlo,'DejaVu Sans Mono',consolas,'Courier New',monospace\"></pre>\n"
      ],
      "text/plain": []
     },
     "metadata": {},
     "output_type": "display_data"
    }
   ],
   "source": [
    "from dj_notebook import activate\n",
    "\n",
    "plus = activate()"
   ]
  },
  {
   "cell_type": "code",
   "execution_count": 4,
   "id": "2977cdc8",
   "metadata": {},
   "outputs": [],
   "source": [
    "from django.contrib.auth.models import User\n",
    "\n",
    "user = User.objects.create_user(username='tobi')"
   ]
  },
  {
   "cell_type": "code",
   "execution_count": null,
   "id": "5d08e680faa2786e",
   "metadata": {
    "ExecuteTime": {
     "end_time": "2023-11-06T19:09:38.040407666Z",
     "start_time": "2023-11-06T19:09:38.020549994Z"
    },
    "collapsed": false
   },
   "outputs": [],
   "source": [
    "from baserow_dynamic_table.table.handler import TableHandler\n",
    "from baserow_dynamic_table.table.models import Table\n",
    "\n",
    "from django.contrib.auth.models import User\n",
    "\n",
    "user = User.objects.first()\n",
    "\n",
    "# Table.objects.all().delete()\n",
    "\n",
    "table = TableHandler().create_table_and_fields(user=user,\n",
    "    name=\"Product\", fields=[(\"name\", \"text\", {})]\n",
    ")\n",
    "table.get_model(managed=True)"
   ]
  },
  {
   "cell_type": "code",
   "execution_count": 3,
   "id": "f0b1c576",
   "metadata": {},
   "outputs": [
    {
     "data": {
      "text/html": [
       "<pre style=\"white-space:pre;overflow-x:auto;line-height:normal;font-family:Menlo,'DejaVu Sans Mono',consolas,'Courier New',monospace\">2023-11-09 16:53:19.573 | DEBUG    | baserow_dynamic_table.table.models:get_model:624 - Generating model for table \n",
       "4 with fields None, manytomany_models None, add_dependencies True, use_cache True\n",
       "</pre>\n"
      ],
      "text/plain": [
       "2023-11-09 16:53:19.573 | DEBUG    | baserow_dynamic_table.table.models:get_model:624 - Generating model for table \n",
       "4 with fields None, manytomany_models None, add_dependencies True, use_cache True\n"
      ]
     },
     "metadata": {},
     "output_type": "display_data"
    },
    {
     "data": {
      "text/html": [
       "<pre style=\"white-space:pre;overflow-x:auto;line-height:normal;font-family:Menlo,'DejaVu Sans Mono',consolas,'Courier New',monospace\">2023-11-09 16:53:19.575 | DEBUG    | baserow_dynamic_table.table.models:get_model:712 - Generating model field \n",
       "attrs for table 4\n",
       "</pre>\n"
      ],
      "text/plain": [
       "2023-11-09 16:53:19.575 | DEBUG    | baserow_dynamic_table.table.models:get_model:712 - Generating model field \n",
       "attrs for table 4\n"
      ]
     },
     "metadata": {},
     "output_type": "display_data"
    },
    {
     "ename": "TypeError",
     "evalue": "Table4Model() got unexpected keyword arguments: 'name'",
     "output_type": "error",
     "traceback": [
      "\u001b[0;31m---------------------------------------------------------------------------\u001b[0m",
      "\u001b[0;31mTypeError\u001b[0m                                 Traceback (most recent call last)",
      "\u001b[1;32m/Users/tobi/Builds/baserow_dynamic_table/demo/notebook.ipynb Cell 4\u001b[0m line \u001b[0;36m5\n\u001b[1;32m      <a href='vscode-notebook-cell:/Users/tobi/Builds/baserow_dynamic_table/demo/notebook.ipynb#W4sZmlsZQ%3D%3D?line=2'>3</a>\u001b[0m table \u001b[39m=\u001b[39m Table\u001b[39m.\u001b[39mobjects\u001b[39m.\u001b[39mfirst()\n\u001b[1;32m      <a href='vscode-notebook-cell:/Users/tobi/Builds/baserow_dynamic_table/demo/notebook.ipynb#W4sZmlsZQ%3D%3D?line=3'>4</a>\u001b[0m model \u001b[39m=\u001b[39m table\u001b[39m.\u001b[39mget_model(managed\u001b[39m=\u001b[39m\u001b[39mTrue\u001b[39;00m)\n\u001b[0;32m----> <a href='vscode-notebook-cell:/Users/tobi/Builds/baserow_dynamic_table/demo/notebook.ipynb#W4sZmlsZQ%3D%3D?line=4'>5</a>\u001b[0m model\u001b[39m.\u001b[39;49mobjects\u001b[39m.\u001b[39;49mcreate(name\u001b[39m=\u001b[39;49m\u001b[39m\"\u001b[39;49m\u001b[39mProduct 1\u001b[39;49m\u001b[39m\"\u001b[39;49m)\n",
      "File \u001b[0;32m~/Builds/baserow_dynamic_table/.venv/lib/python3.12/site-packages/django/db/models/manager.py:87\u001b[0m, in \u001b[0;36mBaseManager._get_queryset_methods.<locals>.create_method.<locals>.manager_method\u001b[0;34m(self, *args, **kwargs)\u001b[0m\n\u001b[1;32m     85\u001b[0m \u001b[39m@wraps\u001b[39m(method)\n\u001b[1;32m     86\u001b[0m \u001b[39mdef\u001b[39;00m \u001b[39mmanager_method\u001b[39m(\u001b[39mself\u001b[39m, \u001b[39m*\u001b[39margs, \u001b[39m*\u001b[39m\u001b[39m*\u001b[39mkwargs):\n\u001b[0;32m---> 87\u001b[0m     \u001b[39mreturn\u001b[39;00m \u001b[39mgetattr\u001b[39;49m(\u001b[39mself\u001b[39;49m\u001b[39m.\u001b[39;49mget_queryset(), name)(\u001b[39m*\u001b[39;49margs, \u001b[39m*\u001b[39;49m\u001b[39m*\u001b[39;49mkwargs)\n",
      "File \u001b[0;32m~/Builds/baserow_dynamic_table/.venv/lib/python3.12/site-packages/django/db/models/query.py:656\u001b[0m, in \u001b[0;36mQuerySet.create\u001b[0;34m(self, **kwargs)\u001b[0m\n\u001b[1;32m    651\u001b[0m \u001b[39mdef\u001b[39;00m \u001b[39mcreate\u001b[39m(\u001b[39mself\u001b[39m, \u001b[39m*\u001b[39m\u001b[39m*\u001b[39mkwargs):\n\u001b[1;32m    652\u001b[0m \u001b[39m    \u001b[39m\u001b[39m\"\"\"\u001b[39;00m\n\u001b[1;32m    653\u001b[0m \u001b[39m    Create a new object with the given kwargs, saving it to the database\u001b[39;00m\n\u001b[1;32m    654\u001b[0m \u001b[39m    and returning the created object.\u001b[39;00m\n\u001b[1;32m    655\u001b[0m \u001b[39m    \"\"\"\u001b[39;00m\n\u001b[0;32m--> 656\u001b[0m     obj \u001b[39m=\u001b[39m \u001b[39mself\u001b[39;49m\u001b[39m.\u001b[39;49mmodel(\u001b[39m*\u001b[39;49m\u001b[39m*\u001b[39;49mkwargs)\n\u001b[1;32m    657\u001b[0m     \u001b[39mself\u001b[39m\u001b[39m.\u001b[39m_for_write \u001b[39m=\u001b[39m \u001b[39mTrue\u001b[39;00m\n\u001b[1;32m    658\u001b[0m     obj\u001b[39m.\u001b[39msave(force_insert\u001b[39m=\u001b[39m\u001b[39mTrue\u001b[39;00m, using\u001b[39m=\u001b[39m\u001b[39mself\u001b[39m\u001b[39m.\u001b[39mdb)\n",
      "File \u001b[0;32m~/Builds/baserow_dynamic_table/.venv/lib/python3.12/site-packages/django/db/models/base.py:567\u001b[0m, in \u001b[0;36mModel.__init__\u001b[0;34m(self, *args, **kwargs)\u001b[0m\n\u001b[1;32m    565\u001b[0m     \u001b[39mif\u001b[39;00m unexpected:\n\u001b[1;32m    566\u001b[0m         unexpected_names \u001b[39m=\u001b[39m \u001b[39m\"\u001b[39m\u001b[39m, \u001b[39m\u001b[39m\"\u001b[39m\u001b[39m.\u001b[39mjoin(\u001b[39mrepr\u001b[39m(n) \u001b[39mfor\u001b[39;00m n \u001b[39min\u001b[39;00m unexpected)\n\u001b[0;32m--> 567\u001b[0m         \u001b[39mraise\u001b[39;00m \u001b[39mTypeError\u001b[39;00m(\n\u001b[1;32m    568\u001b[0m             \u001b[39mf\u001b[39m\u001b[39m\"\u001b[39m\u001b[39m{\u001b[39;00m\u001b[39mcls\u001b[39m\u001b[39m.\u001b[39m\u001b[39m__name__\u001b[39m\u001b[39m}\u001b[39;00m\u001b[39m() got unexpected keyword arguments: \u001b[39m\u001b[39m\"\u001b[39m\n\u001b[1;32m    569\u001b[0m             \u001b[39mf\u001b[39m\u001b[39m\"\u001b[39m\u001b[39m{\u001b[39;00munexpected_names\u001b[39m}\u001b[39;00m\u001b[39m\"\u001b[39m\n\u001b[1;32m    570\u001b[0m         )\n\u001b[1;32m    571\u001b[0m \u001b[39msuper\u001b[39m()\u001b[39m.\u001b[39m\u001b[39m__init__\u001b[39m()\n\u001b[1;32m    572\u001b[0m post_init\u001b[39m.\u001b[39msend(sender\u001b[39m=\u001b[39m\u001b[39mcls\u001b[39m, instance\u001b[39m=\u001b[39m\u001b[39mself\u001b[39m)\n",
      "\u001b[0;31mTypeError\u001b[0m: Table4Model() got unexpected keyword arguments: 'name'"
     ]
    }
   ],
   "source": [
    "from baserow_dynamic_table.table.models import Table\n",
    "\n",
    "table = Table.objects.first()\n",
    "model = table.get_model(managed=True)\n",
    "model.objects.create(name=\"Product 1\")"
   ]
  },
  {
   "cell_type": "code",
   "execution_count": null,
   "id": "fe2e556312fee9f3",
   "metadata": {
    "collapsed": false
   },
   "outputs": [],
   "source": []
  }
 ],
 "metadata": {
  "kernelspec": {
   "display_name": "Python 3",
   "language": "python",
   "name": "python3"
  },
  "language_info": {
   "codemirror_mode": {
    "name": "ipython",
    "version": 3
   },
   "file_extension": ".py",
   "mimetype": "text/x-python",
   "name": "python",
   "nbconvert_exporter": "python",
   "pygments_lexer": "ipython3",
   "version": "3.12.0"
  }
 },
 "nbformat": 4,
 "nbformat_minor": 5
}
